{
 "cells": [
  {
   "cell_type": "code",
   "execution_count": 2,
   "id": "b95fb3df-0d0b-4b7c-ac62-712b98f7d2eb",
   "metadata": {},
   "outputs": [
    {
     "name": "stdout",
     "output_type": "stream",
     "text": [
      "Prediction Result:\n",
      "{'contains_allergens': True, 'detected_allergens': ['Dairy', 'Wheat'], 'message': 'Allergens detected: Dairy, Wheat'}\n"
     ]
    }
   ],
   "source": [
    "# test.py\n",
    "\n",
    "import requests\n",
    "\n",
    "url = \"http://127.0.0.1:8000/predict\"\n",
    "\n",
    "sample_input = {\n",
    "    \"Food_Product\": \"Chocolate Bar\",\n",
    "    \"Main_Ingredient\": \"Milk\",\n",
    "    \"Sweetener\": \"Sugar\",\n",
    "    \"Fat_Oil\": \"Butter\",\n",
    "    \"Seasoning\": \"Vanilla\"\n",
    "}\n",
    "\n",
    "response = requests.post(url, json=sample_input)\n",
    "\n",
    "print(\"Prediction Result:\")\n",
    "print(response.json())\n"
   ]
  }
 ],
 "metadata": {
  "kernelspec": {
   "display_name": "base",
   "language": "python",
   "name": "python3"
  },
  "language_info": {
   "codemirror_mode": {
    "name": "ipython",
    "version": 3
   },
   "file_extension": ".py",
   "mimetype": "text/x-python",
   "name": "python",
   "nbconvert_exporter": "python",
   "pygments_lexer": "ipython3",
   "version": "3.11.7"
  }
 },
 "nbformat": 4,
 "nbformat_minor": 5
}
